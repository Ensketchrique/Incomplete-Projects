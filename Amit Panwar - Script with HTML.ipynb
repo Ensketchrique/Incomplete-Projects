{
 "cells": [
  {
   "cell_type": "markdown",
   "id": "83cd9cde",
   "metadata": {},
   "source": [
    "<div style='text-align: center;'><font color=red size=5><b>Take Away Assignment"
   ]
  },
  {
   "cell_type": "code",
   "execution_count": 2,
   "id": "e463302b",
   "metadata": {},
   "outputs": [],
   "source": [
    "import pandas as pd\n",
    "import numpy as np\n",
    "import seaborn as sns\n",
    "import matplotlib.pyplot as plt"
   ]
  },
  {
   "cell_type": "code",
   "execution_count": 3,
   "id": "ca83c770",
   "metadata": {},
   "outputs": [
    {
     "data": {
      "text/plain": [
       "(10000, 117)"
      ]
     },
     "execution_count": 3,
     "metadata": {},
     "output_type": "execute_result"
    }
   ],
   "source": [
    "df= pd.read_excel(\"DS_Python_Assignment.xlsx\")\n",
    "df.shape"
   ]
  },
  {
   "cell_type": "markdown",
   "id": "940e2fb9",
   "metadata": {},
   "source": [
    "<font size=3 color=green>Write a function/package in python which can create the below in the form of a html/pdf/word once you input the given data:<ol>\n",
    "<font color=green> <li> List down all the columns with missing values.\n",
    "<font color=green> <li> Categotize the columns based upon their data type and print, for ex: print all the numeric variables and other data types as well.\n",
    "<font color=green> <li> List the columns with duplicates a) Remove them b) Print before and after.\n",
    "<font color=green> <li> List the constant columns a) Remove them b) Print before and after.\n",
    "<font color=green> <li> Create box plot to visualise the outliers of all the numeric columns.\n",
    "<font color=green> <li> Create charts for any 6 columns and show their distribution."
   ]
  },
  {
   "cell_type": "code",
   "execution_count": 4,
   "id": "8dae0e0e",
   "metadata": {},
   "outputs": [
    {
     "name": "stdout",
     "output_type": "stream",
     "text": [
      "HTML report generated: report.html\n"
     ]
    }
   ],
   "source": [
    "def generate_html_report(df):\n",
    "# 1. List down all the columns with missing values.\n",
    "    cols_with_null_values= []\n",
    "    null_count= []\n",
    "    for cols in df.columns:\n",
    "        if df[cols].isnull().sum()!=0:\n",
    "            cols_with_null_values.append(cols)\n",
    "            null_count.append(df[cols].isnull().sum())\n",
    "\n",
    "            \n",
    "    null_cols= pd.DataFrame({\"Column Names\": cols_with_null_values, 'Null Value Counts': null_count})\n",
    "    html1= null_cols.to_html(index=True, border=2)\n",
    "    \n",
    "# 2. Categotize the columns based upon their data type and print, \n",
    "    #    for ex: print all the numeric variables and other data types as well\n",
    "    int_type= []\n",
    "    float_type= []\n",
    "    object_type= []\n",
    "    for cols in df.columns:\n",
    "        if df[cols].dtypes == 'int64':\n",
    "            int_type.append(cols)\n",
    "        if df[cols].dtypes == 'float64':\n",
    "            float_type.append(cols)\n",
    "        if df[cols].dtypes == 'O':\n",
    "            object_type.append(cols)\n",
    "    cols_data_types= pd.DataFrame({\"Data_Types\": ['Integer', 'Float', 'Object'],\n",
    "                                   \"Column_Names\": [' ,'.join(int_type), ' ,'.join(float_type), ' ,'.join(object_type)]})\n",
    "    html2= cols_data_types.to_html(index=True, border=2)\n",
    "    \n",
    "# 3. List the columns with duplicates a) Remove them b) Print before and after\n",
    "    ##Created a copy of dataset df as df_copy1 to for performing cleaning based on duplicate values.\n",
    "    df_copy1= df.copy()\n",
    "    duplicated_cols= []\n",
    "    duplicated_values= []\n",
    "    for cols in df_copy1.columns:\n",
    "        if df_copy1[cols].duplicated().sum() != 0:\n",
    "            duplicated_cols.append(cols)\n",
    "            duplicated_values.append(df_copy1[cols].duplicated().sum())\n",
    "    ##All the columns with Duplicate values\n",
    "    df_duplicated = pd.DataFrame({\"columns_names\":duplicated_cols, \"duplicated_values\": duplicated_values})\n",
    "    html3_1= df_duplicated.to_html(border=2)\n",
    "    \n",
    "    ##Removing duplicate values from each column\n",
    "    for cols in df_copy1.columns:\n",
    "        df_copy1.drop_duplicates(cols, inplace=True)\n",
    "    columns_name= []\n",
    "    duplicate_counts= []\n",
    "    for cols in df_copy1.columns:\n",
    "        columns_name.append(cols)\n",
    "        duplicate_counts.append(df_copy1[cols].duplicated().sum())\n",
    "    df_dup = pd.DataFrame({\"columns_names\": columns_name, \"duplicated_values\": duplicate_counts})\n",
    "    html3_2= df_dup.to_html(border=2)\n",
    "    \n",
    "# 4. List the constant columns a) Remove them b) Print before and after\n",
    "    constant_cols= []\n",
    "    constant_vals= []\n",
    "    for cols in df.columns:\n",
    "        if df[cols].nunique()==1:\n",
    "            constant_cols.append(cols)\n",
    "            constant_vals.append(df[cols].nunique())\n",
    "    df_constant= pd.DataFrame({'Columns with Single value/ Constant columns': constant_cols, \n",
    "                               \"Number of Unique Values\": constant_vals})    \n",
    "    html4_1= df_constant.to_html(border=2)\n",
    "\n",
    "    \n",
    "# 5. Create box plot to visualise the outliers of all the numeric columns\n",
    "    import os\n",
    "    if not os.path.exists(\"charts\"):\n",
    "        os.mkdir(\"charts\")\n",
    "    chart_files= []\n",
    "    for cols in df.iloc[:, :30].select_dtypes(include=['number']):\n",
    "        plt.figure(figsize=(12,4))\n",
    "        sns.boxplot(x=df[cols])\n",
    "        plt.title(f'Boxplot for {cols}')\n",
    "        plt.tight_layout()\n",
    "        file_name = f\"charts/boxplot_{cols}.png\"\n",
    "        plt.savefig(file_name)\n",
    "        chart_files.append(file_name)\n",
    "        plt.close()\n",
    "    \n",
    "# 6. Create charts for any 6 columns and show their distribution\n",
    "    plt.figure(figsize=(12,5))\n",
    "    sns.histplot(df['TENURE_IN_MONTHS'], bins=100, kde=True)\n",
    "    plt.title(f'Distibution of TENURE_IN_MONTHS using Histogram')\n",
    "    plt.tight_layout()\n",
    "    chart1 = f\"Histogram.png\"\n",
    "    plt.savefig(chart1)\n",
    "    plt.close()\n",
    "## Got Stuck in the 6th question.    \n",
    "    \n",
    "    # Joining Tables\n",
    "    html_content = f\"\"\"\n",
    "    <html>\n",
    "    <head><title>Data Report</title></head>\n",
    "    <body>\n",
    "        <h1>Data Report</h1>\n",
    "        <h2>Table 1: Columns with Null Values</h2>\n",
    "        {html1}\n",
    "        <h2>Table 2: Data Types</h2>\n",
    "        {html2}\n",
    "        <h2>Table 3.1: Columns with Duplicate Values</h2>\n",
    "        {html3_1}\n",
    "        <h2>Table 3.2: Columns without Duplicate Values</h2>\n",
    "        {html3_2}\n",
    "        <h2>Table 4.1: Constant Columns</h2>\n",
    "        {html4_1}\n",
    "        <h2>Boxplots to check Outliers</h2>\n",
    "    \"\"\"\n",
    "    for file_name in chart_files:\n",
    "        html_content += f'<div><img src=\"{file_name}\" alt=\"Boxplot\" style=\"width:80%; margin-bottom:20px;\"></div>'\n",
    "    \n",
    "    \n",
    "    html_content += \"\"\"\n",
    "        <h2>Charts Showing Distribution of data</h2>\n",
    "        <div>\n",
    "        <img src=\"{chart1}\" alt=\"Histogram of TENURE_IN_MONTHS\" style=\"width:80%; margin-bottom:20px;\">\n",
    "        </div>\n",
    "    </body>\n",
    "    </html>\n",
    "    \"\"\"\n",
    "    \n",
    "    \n",
    "    # Save the HTML to a file\n",
    "    with open(\"report.html\", \"w\") as f:\n",
    "        f.write(f\"<html><head><title>Data Report</title></head><body><h1>Data Report</h1>{html_content}</body></html>\")\n",
    "\n",
    "    print(\"HTML report generated: report.html\")\n",
    "    \n",
    "\n",
    "generate_html_report(df)"
   ]
  }
 ],
 "metadata": {
  "kernelspec": {
   "display_name": "Python 3 (ipykernel)",
   "language": "python",
   "name": "python3"
  },
  "language_info": {
   "codemirror_mode": {
    "name": "ipython",
    "version": 3
   },
   "file_extension": ".py",
   "mimetype": "text/x-python",
   "name": "python",
   "nbconvert_exporter": "python",
   "pygments_lexer": "ipython3",
   "version": "3.9.13"
  }
 },
 "nbformat": 4,
 "nbformat_minor": 5
}
